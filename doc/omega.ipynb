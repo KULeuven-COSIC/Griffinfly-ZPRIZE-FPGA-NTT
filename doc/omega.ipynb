{
 "cells": [
  {
   "attachments": {},
   "cell_type": "markdown",
   "metadata": {},
   "source": [
    "This notebook details the custom root of unity that we use in our submission. The pre-provided roots of unity are as follows:\n",
    "\n",
    "```c\n",
    "const GF OMEGA[33] = {\n",
    "    GF(1ull),                       // for a domain of 2^0\n",
    "    GF(18446744069414584320ull),    // for a domain of 2^1\n",
    "    GF(281474976710656ull),         // for a domain of 2^2\n",
    "    GF(18446744069397807105ull),    // for a domain of 2^3\n",
    "    GF(17293822564807737345ull),    // for a domain of 2^4\n",
    "    GF(70368744161280ull),          // for a domain of 2^5\n",
    "    GF(549755813888ull),            // for a domain of 2^6\n",
    "    GF(17870292113338400769ull),    // for a domain of 2^7\n",
    "    GF(13797081185216407910ull),    // for a domain of 2^8\n",
    "    GF(1803076106186727246ull),     // for a domain of 2^9\n",
    "    GF(11353340290879379826ull),    // for a domain of 2^10\n",
    "    GF(455906449640507599ull),      // for a domain of 2^11\n",
    "    GF(17492915097719143606ull),    // for a domain of 2^12\n",
    "    GF(1532612707718625687ull),\t    // for a domain of 2^13\n",
    "    GF(16207902636198568418ull),    // for a domain of 2^14\n",
    "    GF(17776499369601055404ull),    // for a domain of 2^15\n",
    "    GF(6115771955107415310ull),\t    // for a domain of 2^16\n",
    "    GF(12380578893860276750ull),    // for a domain of 2^17\n",
    "    GF(9306717745644682924ull),\t    // for a domain of 2^18\n",
    "    GF(18146160046829613826ull),    // for a domain of 2^19\n",
    "    GF(3511170319078647661ull),\t    // for a domain of 2^20\n",
    "    GF(17654865857378133588ull),    // for a domain of 2^21\n",
    "    GF(5416168637041100469ull),\t    // for a domain of 2^22\n",
    "    GF(16905767614792059275ull),    // for a domain of 2^23\n",
    "    GF(9713644485405565297ull),\t    // for a domain of 2^24\n",
    "    GF(5456943929260765144ull),\t    // for a domain of 2^25\n",
    "    GF(17096174751763063430ull),    // for a domain of 2^26\n",
    "    GF(1213594585890690845ull),     // for a domain of 2^27\n",
    "    GF(6414415596519834757ull),     // for a domain of 2^28\n",
    "    GF(16116352524544190054ull),    // for a domain of 2^29\n",
    "    GF(9123114210336311365ull),     // for a domain of 2^30\n",
    "    GF(4614640910117430873ull),     // for a domain of 2^31\n",
    "    GF(1753635133440165772ull) \t    // for a domain of 2^32\n",
    "};\n",
    "```\n",
    "\n",
    "A (not-so-well-known) property of the goldilocks prime $q = 2^{64} - 2^{32} + 1$ is that $2^{96} = -1 \\mod q$. This implies that $\\omega_{192} = 2$ is a primitive 192-th root of unity, and $\\omega_{64} = 8$ is a primitive 64-th root of unity.\n",
    "\n",
    "In our implementation, we fix the primitive 64-th root of unity $\\omega_{64}$ to 8, instead of to 549755813888 as above. This allows us to replace all twiddle multiplications with roots $\\omega_{64}^i$ by simple shifts. In particular, this allows an efficient radix-64 NTT design, where the 64-point base NTT unit does not need any multipliers."
   ]
  },
  {
   "cell_type": "code",
   "execution_count": 1,
   "metadata": {},
   "outputs": [
    {
     "ename": "ModuleNotFoundError",
     "evalue": "No module named 'sage'",
     "output_type": "error",
     "traceback": [
      "\u001b[0;31m---------------------------------------------------------------------------\u001b[0m",
      "\u001b[0;31mModuleNotFoundError\u001b[0m                       Traceback (most recent call last)",
      "\u001b[0;32m<ipython-input-1-0c9c927dd29c>\u001b[0m in \u001b[0;36m<module>\u001b[0;34m\u001b[0m\n\u001b[0;32m----> 1\u001b[0;31m \u001b[0;32mfrom\u001b[0m \u001b[0msage\u001b[0m\u001b[0;34m.\u001b[0m\u001b[0mall\u001b[0m \u001b[0;32mimport\u001b[0m \u001b[0;34m*\u001b[0m\u001b[0;34m\u001b[0m\u001b[0;34m\u001b[0m\u001b[0m\n\u001b[0m\u001b[1;32m      2\u001b[0m \u001b[0;34m\u001b[0m\u001b[0m\n\u001b[1;32m      3\u001b[0m \u001b[0mq\u001b[0m \u001b[0;34m=\u001b[0m \u001b[0;36m2\u001b[0m\u001b[0;34m**\u001b[0m\u001b[0;36m64\u001b[0m \u001b[0;34m-\u001b[0m \u001b[0;36m2\u001b[0m\u001b[0;34m**\u001b[0m\u001b[0;36m32\u001b[0m \u001b[0;34m+\u001b[0m \u001b[0;36m1\u001b[0m\u001b[0;34m\u001b[0m\u001b[0;34m\u001b[0m\u001b[0m\n\u001b[1;32m      4\u001b[0m \u001b[0;34m\u001b[0m\u001b[0m\n\u001b[1;32m      5\u001b[0m \u001b[0mw_64_given\u001b[0m \u001b[0;34m=\u001b[0m \u001b[0;36m549755813888\u001b[0m\u001b[0;34m\u001b[0m\u001b[0;34m\u001b[0m\u001b[0m\n",
      "\u001b[0;31mModuleNotFoundError\u001b[0m: No module named 'sage'"
     ]
    }
   ],
   "source": [
    "from sage.all import *\n",
    "\n",
    "q = 2**64 - 2**32 + 1\n",
    "\n",
    "w_64_given = 549755813888\n",
    "w_64_chosen = 8\n",
    "\n",
    "assert(w_64_given**32 % q == q-1)\n",
    "assert(w_64_given**64 % q == 1)\n",
    "\n",
    "assert(w_64_chosen**32 % q == q-1)\n",
    "assert(w_64_chosen**64 % q == 1)"
   ]
  },
  {
   "cell_type": "code",
   "execution_count": null,
   "metadata": {},
   "outputs": [],
   "source": [
    "def get_omega_goldilocks(n):\n",
    "    if (n <= 6):\n",
    "        return mod(w_64_chosen, q)**(2**(6-n))\n",
    "    else:\n",
    "        return mod(w_64_chosen, q).nth_root(2**(n-6))"
   ]
  },
  {
   "cell_type": "code",
   "execution_count": null,
   "metadata": {},
   "outputs": [],
   "source": [
    "for i in range(0, 32):\n",
    "\n",
    "    omega = get_omega_goldilocks(i)\n",
    "\n",
    "    if (i > 0):\n",
    "        # assert it is a **primitive** root\n",
    "        assert(omega**(2**(i-1)) == (q-1))\n",
    "\n",
    "        print(f\"u64({omega}ull), // for a domain of 2^{i}\")"
   ]
  }
 ],
 "metadata": {
  "kernelspec": {
   "display_name": "Python 3",
   "language": "python",
   "name": "python3"
  },
  "language_info": {
   "codemirror_mode": {
    "name": "ipython",
    "version": 3
   },
   "file_extension": ".py",
   "mimetype": "text/x-python",
   "name": "python",
   "nbconvert_exporter": "python",
   "pygments_lexer": "ipython3",
   "version": "3.6.8"
  },
  "orig_nbformat": 4,
  "vscode": {
   "interpreter": {
    "hash": "916dbcbb3f70747c44a77c7bcd40155683ae19c65e1c03b4aa3499c5328201f1"
   }
  }
 },
 "nbformat": 4,
 "nbformat_minor": 2
}
