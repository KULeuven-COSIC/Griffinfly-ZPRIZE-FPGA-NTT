{
 "cells": [
  {
   "attachments": {},
   "cell_type": "markdown",
   "metadata": {},
   "source": [
    "This notebook details the custom root of unity that we use in our submission. The pre-provided roots of unity are as follows:\n",
    "\n",
    "```c\n",
    "const GF OMEGA[33] = {\n",
    "    GF(1ull),                       // for a domain of 2^0\n",
    "    GF(18446744069414584320ull),    // for a domain of 2^1\n",
    "    GF(281474976710656ull),         // for a domain of 2^2\n",
    "    GF(18446744069397807105ull),    // for a domain of 2^3\n",
    "    GF(17293822564807737345ull),    // for a domain of 2^4\n",
    "    GF(70368744161280ull),          // for a domain of 2^5\n",
    "    GF(549755813888ull),            // for a domain of 2^6\n",
    "    GF(17870292113338400769ull),    // for a domain of 2^7\n",
    "    GF(13797081185216407910ull),    // for a domain of 2^8\n",
    "    GF(1803076106186727246ull),     // for a domain of 2^9\n",
    "    GF(11353340290879379826ull),    // for a domain of 2^10\n",
    "    GF(455906449640507599ull),      // for a domain of 2^11\n",
    "    GF(17492915097719143606ull),    // for a domain of 2^12\n",
    "    GF(1532612707718625687ull),\t    // for a domain of 2^13\n",
    "    GF(16207902636198568418ull),    // for a domain of 2^14\n",
    "    GF(17776499369601055404ull),    // for a domain of 2^15\n",
    "    GF(6115771955107415310ull),\t    // for a domain of 2^16\n",
    "    GF(12380578893860276750ull),    // for a domain of 2^17\n",
    "    GF(9306717745644682924ull),\t    // for a domain of 2^18\n",
    "    GF(18146160046829613826ull),    // for a domain of 2^19\n",
    "    GF(3511170319078647661ull),\t    // for a domain of 2^20\n",
    "    GF(17654865857378133588ull),    // for a domain of 2^21\n",
    "    GF(5416168637041100469ull),\t    // for a domain of 2^22\n",
    "    GF(16905767614792059275ull),    // for a domain of 2^23\n",
    "    GF(9713644485405565297ull),\t    // for a domain of 2^24\n",
    "    GF(5456943929260765144ull),\t    // for a domain of 2^25\n",
    "    GF(17096174751763063430ull),    // for a domain of 2^26\n",
    "    GF(1213594585890690845ull),     // for a domain of 2^27\n",
    "    GF(6414415596519834757ull),     // for a domain of 2^28\n",
    "    GF(16116352524544190054ull),    // for a domain of 2^29\n",
    "    GF(9123114210336311365ull),     // for a domain of 2^30\n",
    "    GF(4614640910117430873ull),     // for a domain of 2^31\n",
    "    GF(1753635133440165772ull) \t    // for a domain of 2^32\n",
    "};\n",
    "```\n",
    "\n",
    "A (not-so-well-known) property of the goldilocks prime $q = 2^{64} - 2^{32} + 1$ is that $2^{96} = -1 \\mod q$. This implies that $\\omega_{192} = 2$ is a primitive 192-th root of unity, and $\\omega_{64} = 8$ is a primitive 64-th root of unity.\n",
    "\n",
    "In our implementation, we fix the primitive 64-th root of unity $\\omega_{64}$ to 8, instead of to 549755813888 as above. This allows us to replace all twiddle multiplications with roots $\\omega_{64}^i$ by simple shifts. In particular, this allows an efficient radix-64 NTT design, where the 64-point base NTT unit does not need any multipliers."
   ]
  },
  {
   "cell_type": "code",
   "execution_count": 1,
   "metadata": {},
   "outputs": [],
   "source": [
    "from sage.all import *\n",
    "\n",
    "q = 2**64 - 2**32 + 1\n",
    "\n",
    "w_64_given = 549755813888\n",
    "w_64_chosen = 8\n",
    "\n",
    "assert(w_64_given**32 % q == q-1)\n",
    "assert(w_64_given**64 % q == 1)\n",
    "\n",
    "assert(w_64_chosen**32 % q == q-1)\n",
    "assert(w_64_chosen**64 % q == 1)"
   ]
  },
  {
   "cell_type": "code",
   "execution_count": 2,
   "metadata": {},
   "outputs": [],
   "source": [
    "def get_omega_goldilocks(n):\n",
    "    if (n <= 6):\n",
    "        return mod(w_64_chosen, q)**(2**(6-n))\n",
    "    else:\n",
    "        return mod(w_64_chosen, q).nth_root(2**(n-6))"
   ]
  },
  {
   "cell_type": "code",
   "execution_count": 3,
   "metadata": {},
   "outputs": [
    {
     "name": "stdout",
     "output_type": "stream",
     "text": [
      "u64(18446744069414584320ull), // for a domain of 2^1\n",
      "u64(281474976710656ull), // for a domain of 2^2\n",
      "u64(16777216ull), // for a domain of 2^3\n",
      "u64(4096ull), // for a domain of 2^4\n",
      "u64(64ull), // for a domain of 2^5\n",
      "u64(8ull), // for a domain of 2^6\n",
      "u64(18446741870424883713ull), // for a domain of 2^7\n",
      "u64(5575382163818481237ull), // for a domain of 2^8\n",
      "u64(6968564197111712876ull), // for a domain of 2^9\n",
      "u64(16597218757394956566ull), // for a domain of 2^10\n",
      "u64(12224595309747104101ull), // for a domain of 2^11\n",
      "u64(7162411506628992569ull), // for a domain of 2^12\n",
      "u64(17370749796773648850ull), // for a domain of 2^13\n",
      "u64(6336109244748055921ull), // for a domain of 2^14\n",
      "u64(1899055609354042605ull), // for a domain of 2^15\n",
      "u64(13852080018225038782ull), // for a domain of 2^16\n",
      "u64(10923341407476031646ull), // for a domain of 2^17\n",
      "u64(11741558660741847279ull), // for a domain of 2^18\n",
      "u64(10857530471142180514ull), // for a domain of 2^19\n",
      "u64(9295618658634918088ull), // for a domain of 2^20\n",
      "u64(127589073375127907ull), // for a domain of 2^21\n",
      "u64(16468075455353463192ull), // for a domain of 2^22\n",
      "u64(3875249612062100546ull), // for a domain of 2^23\n",
      "u64(1178141731658273728ull), // for a domain of 2^24\n",
      "u64(16741045073888939265ull), // for a domain of 2^25\n",
      "u64(18116652949657751419ull), // for a domain of 2^26\n",
      "u64(16548855811671180642ull), // for a domain of 2^27\n",
      "u64(11004664669452058453ull), // for a domain of 2^28\n",
      "u64(13456279912083982979ull), // for a domain of 2^29\n",
      "u64(4738080411982103950ull), // for a domain of 2^30\n",
      "u64(6752129933716898348ull), // for a domain of 2^31\n"
     ]
    }
   ],
   "source": [
    "for i in range(0, 32):\n",
    "\n",
    "    omega = get_omega_goldilocks(i)\n",
    "\n",
    "    if (i > 0):\n",
    "        # assert it is a **primitive** root\n",
    "        assert(omega**(2**(i-1)) == (q-1))\n",
    "\n",
    "        print(f\"u64({omega}ull), // for a domain of 2^{i}\")"
   ]
  }
 ],
 "metadata": {
  "kernelspec": {
   "display_name": "Python 3",
   "language": "python",
   "name": "python3"
  },
  "language_info": {
   "codemirror_mode": {
    "name": "ipython",
    "version": 3
   },
   "file_extension": ".py",
   "mimetype": "text/x-python",
   "name": "python",
   "nbconvert_exporter": "python",
   "pygments_lexer": "ipython3",
   "version": "3.8.10"
  },
  "orig_nbformat": 4,
  "vscode": {
   "interpreter": {
    "hash": "916dbcbb3f70747c44a77c7bcd40155683ae19c65e1c03b4aa3499c5328201f1"
   }
  }
 },
 "nbformat": 4,
 "nbformat_minor": 2
}
